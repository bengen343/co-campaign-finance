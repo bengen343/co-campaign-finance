{
 "cells": [
  {
   "cell_type": "code",
   "execution_count": null,
   "metadata": {},
   "outputs": [],
   "source": [
    "import os\n",
    "import json\n",
    "from google.oauth2 import service_account \n",
    "import requests\n",
    "import zipfile\n",
    "import pandas as pd\n",
    "import numpy as np"
   ]
  },
  {
   "cell_type": "code",
   "execution_count": null,
   "metadata": {},
   "outputs": [],
   "source": [
    "import csv\n",
    "import datetime\n",
    "import difflib\n",
    "import glob\n",
    "import os\n",
    "\n",
    "import pandas as pd\n",
    "\n",
    "from datetime import timedelta, datetime\n",
    "\n",
    "from fuzzywuzzy import fuzz\n",
    "from fuzzywuzzy import process\n"
   ]
  },
  {
   "cell_type": "code",
   "execution_count": null,
   "metadata": {},
   "outputs": [],
   "source": [
    "bq_project_id = os.environ.get('BQ_PROJECT_ID')\n",
    "# Establish BigQuery credentials\n",
    "bq_account_creds = json.loads(os.environ.get('BQ_ACCOUNT_CREDS'))\n",
    "bq_credentials = service_account.Credentials.from_service_account_info(bq_account_creds, scopes=[\"https://www.googleapis.com/auth/cloud-platform\"])"
   ]
  },
  {
   "cell_type": "code",
   "execution_count": null,
   "metadata": {},
   "outputs": [],
   "source": [
    "panda_dtypes_dict = {\n",
    "    'STRING': 'str',\n",
    "    'INT64': 'int64',\n",
    "    'FLOAT64': 'float64',\n",
    "    'DATETIME': 'datetime'\n",
    "}\n",
    "\n",
    "contribution_schema_lst = [\n",
    "    {'name': 'RecordID', 'type': 'INT64', 'mode': 'REQUIRED'},\n",
    "    {'name': 'AmendedRecordID', 'type': 'INT64', 'mode': 'NULLABLE'},\n",
    "    {'name': 'Amended', 'type': 'STRING', 'mode': 'NULLABLE'},\n",
    "    {'name': 'Amendment', 'type': 'STRING', 'mode': 'NULLABLE'},\n",
    "    {'name': 'CO_ID', 'type': 'INT64', 'mode': 'REQUIRED'},\n",
    "    {'name': 'CommitteeType', 'type': 'STRING', 'mode': 'NULLABLE'},\n",
    "    {'name': 'CommitteeName', 'type': 'STRING', 'mode': 'NULLABLE'},\n",
    "    {'name': 'CandidateName', 'type': 'STRING', 'mode': 'NULLABLE'},\n",
    "    {'name': 'ContributionType', 'type': 'STRING', 'mode': 'NULLABLE'},\n",
    "    {'name': 'ReceiptType', 'type': 'STRING', 'mode': 'NULLABLE'},\n",
    "    {'name': 'ContributionAmount', 'type': 'FLOAT64', 'mode': 'NULLABLE'},\n",
    "    {'name': 'ContributionDate', 'type': 'DATETIME', 'mode': 'REQUIRED'},\n",
    "    {'name': 'FiledDate', 'type': 'DATETIME', 'mode': 'REQUIRED'},\n",
    "    {'name': 'LastName', 'type': 'STRING', 'mode': 'NULLABLE'},\n",
    "    {'name': 'FirstName', 'type': 'STRING', 'mode': 'NULLABLE'},\n",
    "    {'name': 'MI', 'type': 'STRING', 'mode': 'NULLABLE'},\n",
    "    {'name': 'Suffix', 'type': 'STRING', 'mode': 'NULLABLE'},\n",
    "    {'name': 'Address1', 'type': 'STRING', 'mode': 'NULLABLE'},\n",
    "    {'name': 'Address2', 'type': 'STRING', 'mode': 'NULLABLE'},\n",
    "    {'name': 'City', 'type': 'STRING', 'mode': 'NULLABLE'},\n",
    "    {'name': 'State', 'type': 'STRING', 'mode': 'NULLABLE'},\n",
    "    {'name': 'Zip', 'type': 'STRING', 'mode': 'NULLABLE'},\n",
    "    {'name': 'ContributorType', 'type': 'STRING', 'mode': 'NULLABLE'},\n",
    "    {'name': 'Employer', 'type': 'STRING', 'mode': 'NULLABLE'},\n",
    "    {'name': 'Occupation', 'type': 'STRING', 'mode': 'NULLABLE'},\n",
    "    {'name': 'OccupationComments', 'type': 'STRING', 'mode': 'NULLABLE'},\n",
    "    {'name': 'Electioneering', 'type': 'STRING', 'mode': 'NULLABLE'},\n",
    "    {'name': 'Jurisdiction', 'type': 'STRING', 'mode': 'NULLABLE'},\n",
    "    {'name': 'Explanation', 'type': 'STRING', 'mode': 'NULLABLE'}\n",
    "]\n",
    "\n",
    "expenditure_schema_lst = [\n",
    "    {'name': 'RecordID', 'type': 'INT64', 'mode': 'REQUIRED'},\n",
    "    {'name': 'AmendedRecordID', 'type': 'INT64', 'mode': 'NULLABLE'},\n",
    "    {'name': 'Amended', 'type': 'STRING', 'mode': 'NULLABLE'},\n",
    "    {'name': 'Amendment', 'type': 'STRING', 'mode': 'NULLABLE'},\n",
    "    {'name': 'CO_ID', 'type': 'INT64', 'mode': 'REQUIRED'},\n",
    "    {'name': 'CommitteeType', 'type': 'STRING', 'mode': 'NULLABLE'},\n",
    "    {'name': 'CommitteeName', 'type': 'STRING', 'mode': 'NULLABLE'},\n",
    "    {'name': 'CandidateName', 'type': 'STRING', 'mode': 'NULLABLE'},\n",
    "    {'name': 'ExpenditureType', 'type': 'STRING', 'mode': 'NULLABLE'},\n",
    "    {'name': 'PaymentType', 'type': 'STRING', 'mode': 'NULLABLE'},\n",
    "    {'name': 'ExpenditureAmount', 'type': 'FLOAT64', 'mode': 'NULLABLE'},\n",
    "    {'name': 'ExpenditureDate', 'type': 'DATETIME', 'mode': 'REQUIRED'},\n",
    "    {'name': 'FiledDate', 'type': 'DATETIME', 'mode': 'REQUIRED'},\n",
    "    {'name': 'LastName', 'type': 'STRING', 'mode': 'NULLABLE'},\n",
    "    {'name': 'FirstName', 'type': 'STRING', 'mode': 'NULLABLE'},\n",
    "    {'name': 'MI', 'type': 'STRING', 'mode': 'NULLABLE'},\n",
    "    {'name': 'Suffix', 'type': 'STRING', 'mode': 'NULLABLE'},\n",
    "    {'name': 'Address1', 'type': 'STRING', 'mode': 'NULLABLE'},\n",
    "    {'name': 'Address2', 'type': 'STRING', 'mode': 'NULLABLE'},\n",
    "    {'name': 'City', 'type': 'STRING', 'mode': 'NULLABLE'},\n",
    "    {'name': 'State', 'type': 'STRING', 'mode': 'NULLABLE'},\n",
    "    {'name': 'Zip', 'type': 'STRING', 'mode': 'NULLABLE'},\n",
    "    {'name': 'DisbursementType', 'type': 'STRING', 'mode': 'NULLABLE'},\n",
    "    {'name': 'Employer', 'type': 'STRING', 'mode': 'NULLABLE'},\n",
    "    {'name': 'Occupation', 'type': 'STRING', 'mode': 'NULLABLE'},\n",
    "    {'name': 'Electioneering', 'type': 'STRING', 'mode': 'NULLABLE'},\n",
    "    {'name': 'Jurisdiction', 'type': 'STRING', 'mode': 'NULLABLE'},\n",
    "    {'name': 'Explanation', 'type': 'STRING', 'mode': 'NULLABLE'}\n",
    "]\n",
    "\n",
    "loan_schema_lst = [\n",
    "    {'name': 'RecordID', 'type': 'INT64', 'mode': 'REQUIRED'},\n",
    "    {'name': 'AmendedRecordID', 'type': 'INT64', 'mode': 'NULLABLE'},\n",
    "    {'name': 'Amended', 'type': 'STRING', 'mode': 'NULLABLE'},\n",
    "    {'name': 'Amendment', 'type': 'STRING', 'mode': 'NULLABLE'},\n",
    "    {'name': 'CO_ID', 'type': 'INT64', 'mode': 'REQUIRED'},\n",
    "    {'name': 'CommitteeType', 'type': 'STRING', 'mode': 'NULLABLE'},\n",
    "    {'name': 'CommitteeName', 'type': 'STRING', 'mode': 'NULLABLE'},\n",
    "    {'name': 'CandidateName', 'type': 'STRING', 'mode': 'NULLABLE'},\n",
    "    {'name': 'PaymentAmount', 'type': 'FLOAT64', 'mode': 'NULLABLE'},\n",
    "    {'name': 'PaymentDate', 'type': 'DATETIME', 'mode': 'REQUIRED'},\n",
    "    {'name': 'FiledDate', 'type': 'DATETIME', 'mode': 'REQUIRED'},\n",
    "    {'name': 'Name', 'type': 'STRING', 'mode': 'NULLABLE'},\n",
    "    {'name': 'Address1', 'type': 'STRING', 'mode': 'NULLABLE'},\n",
    "    {'name': 'Address2', 'type': 'STRING', 'mode': 'NULLABLE'},\n",
    "    {'name': 'City', 'type': 'STRING', 'mode': 'NULLABLE'},\n",
    "    {'name': 'State', 'type': 'STRING', 'mode': 'NULLABLE'},\n",
    "    {'name': 'Zip', 'type': 'STRING', 'mode': 'NULLABLE'},\n",
    "    {'name': 'Type', 'type': 'STRING', 'mode': 'NULLABLE'},\n",
    "    {'name': 'Jurisdiction', 'type': 'STRING', 'mode': 'NULLABLE'},\n",
    "    {'name': 'Description', 'type': 'STRING', 'mode': 'NULLABLE'},\n",
    "    {'name': 'LoanSourceType', 'type': 'STRING', 'mode': 'NULLABLE'},\n",
    "    {'name': 'LoanAmount', 'type': 'FLOAT64', 'mode': 'NULLABLE'},\n",
    "    {'name': 'LoanBalance', 'type': 'FLOAT64', 'mode': 'NULLABLE'},\n",
    "    {'name': 'LoanDate', 'type': 'DATETIME', 'mode': 'REQUIRED'},\n",
    "    {'name': 'LoanSource', 'type': 'STRING', 'mode': 'NULLABLE'},\n",
    "    {'name': 'InterestRate', 'type': 'FLOAT64', 'mode': 'NULLABLE'},\n",
    "    {'name': 'InterestPayment', 'type': 'FLOAT64', 'mode': 'NULLABLE'},\n",
    "]"
   ]
  },
  {
   "cell_type": "code",
   "execution_count": null,
   "metadata": {},
   "outputs": [],
   "source": [
    "def get_sos_files(category_str: str, end_year_int: int):\n",
    "    for i in range(1, (end_year_int - 2000)):\n",
    "        print(f\"Collecting {str(2000 + i)} {category_str} data\")\n",
    "        url_stem = 'https://tracer.sos.colorado.gov/PublicSite/Docs/BulkDataDownloads/'\n",
    "        url = url_stem + str(2000 + i) + '_' + category_str + 'Data.csv.zip'\n",
    "\n",
    "        req = requests.get(url)\n",
    "        filename = url.split('/')[-1]\n",
    "\n",
    "        with open(filename, 'wb') as output_file:\n",
    "            output_file.write(req.content)\n",
    "        print(f\"Finished downloading {str(2000 + i)} data\")\n",
    "    \n",
    "    return(print(f\"Finished downloading all {category_str} data for 2000 to {str(end_year_int)}\"))\n"
   ]
  },
  {
   "cell_type": "code",
   "execution_count": null,
   "metadata": {},
   "outputs": [],
   "source": [
    "def unzip_sos_files(category_str: str, end_year_int: int):\n",
    "    for i in range(1, (end_year_int - 2000)):\n",
    "        filename = str(2000 + i) +  '_' + category_str + 'Data.csv.zip'\n",
    "        print(f\"Unzipping {filename}\")\n",
    "\n",
    "        zip_ref = zipfile.ZipFile(filename)\n",
    "        zip_ref.extractall('.')\n",
    "        zip_ref.close()\n",
    "    \n",
    "    return(f\"Finished unzipping all {category_str} data.\")"
   ]
  },
  {
   "cell_type": "code",
   "execution_count": null,
   "metadata": {},
   "outputs": [],
   "source": [
    "def set_dtypes(df, schema_lst):\n",
    "    col_dtypes_dict = {x.get('name'): panda_dtypes_dict.get(x.get('type')) for x in schema_lst}\n",
    "    \n",
    "    for col in list(df):\n",
    "        print(f\"Setting values on {col} column.\")\n",
    "        try:\n",
    "            df[col] = df[col].astype('str')\n",
    "            df = df.sort_values(col)\n",
    "\n",
    "            if col_dtypes_dict.get(col) == 'datetime':\n",
    "                date_pre_int = len(df)\n",
    "                df = df.drop((df.index[(df[col] >= '2100-01-01 00:00:00')  & (df[col] != 'nan')].tolist()))\n",
    "                print(f\"Purged {date_pre_int - len(df)} from column {col}\")\n",
    "                df[col] = pd.to_datetime(df[col])\n",
    "            elif col_dtypes_dict.get(col) == 'int64':\n",
    "                df[col] = df[col].replace('nan', '0')\n",
    "                df[col] = df[col].str.replace('.', '').astype('int64')\n",
    "            else:\n",
    "                df[col] = df[col].astype(col_dtypes_dict.get(col), errors='raise')\n",
    "        except Exception as e:\n",
    "            if 'nan' in str(e).lower():\n",
    "                print(\"Bad nan value\")\n",
    "                df = df.drop(df.index[df[col].isnull()].tolist())\n",
    "\n",
    "                if col_dtypes_dict.get(col) == 'datetime':\n",
    "                    df[col] = pd.to_datetime(df[col])\n",
    "                else:\n",
    "                    df[col] = df[col].astype(col_dtypes_dict.get(col), errors='ignore')\n",
    "\n",
    "            elif ('invalid' in str(e)) | ('format' in str(e)) | ('timestamp' in str(e)):\n",
    "                bad_value = str(e).split(': ')[1]\n",
    "                print(f\"Bad data point, {bad_value} in column {col}. Skipping.\")\n",
    "\n",
    "                if df[col].astype('str').min() == bad_value.replace(\"'\", \"\"):\n",
    "                    df = df.drop(df.index[df[col] == bad_value.replace(\"'\", \"\")])\n",
    "                    df = df.drop(df.index[df[col] == df[col].astype('str').max()])\n",
    "                else:\n",
    "                    df = df.drop(df.index[df[col] >= bad_value.replace(\"'\", \"\")].tolist())\n",
    "\n",
    "                if col_dtypes_dict.get(col) == 'datetime':\n",
    "                    df[col] = pd.to_datetime(df[col])\n",
    "                else:\n",
    "                    df[col] = df[col].astype(col_dtypes_dict.get(col), errors='raise')\n",
    "            else:\n",
    "                raise\n",
    "    \n",
    "    return(df)\n"
   ]
  },
  {
   "cell_type": "code",
   "execution_count": null,
   "metadata": {},
   "outputs": [],
   "source": [
    "def sos_to_gbq(category_str: str, schema_lst: list, end_year_int: int):\n",
    "    _totals = pd.DataFrame(columns=['year', 'csv', 'uploaded'])\n",
    "\n",
    "    for i in range(1, (end_year_int - 2000)):\n",
    "        if i == 1:\n",
    "            mode_str = 'replace'\n",
    "        else:\n",
    "            mode_str = 'append'\n",
    "\n",
    "        filename = category_str + '/' + str(2000 + i) + '_' + category_str + 'Data.csv'\n",
    "        print(f\"Reading {filename} to DataFrame.\")\n",
    "        _df = pd.read_csv(filename, encoding='cp437', on_bad_lines='warn', low_memory=False)\n",
    "        _totals.loc[i, 'year'] = str(2000 + i)\n",
    "        _totals.loc[i, 'csv'] = len(_df)\n",
    "\n",
    "        print(f\"Setting {filename} data types.\")\n",
    "        _df = set_dtypes(_df, schema_lst)\n",
    "\n",
    "        print(f\"Uploading {filename} to BigQuery.\")\n",
    "        _df.to_gbq(destination_table='co_campaign_finance.' + category_str.lower(), project_id=bq_project_id, if_exists=mode_str, table_schema=schema_lst, credentials=bq_credentials)\n",
    "        _totals.loc[i, 'uploaded'] = len(_df)\n",
    "\n",
    "    return(_totals)"
   ]
  },
  {
   "cell_type": "code",
   "execution_count": null,
   "metadata": {},
   "outputs": [],
   "source": [
    "get_sos_files('Contribution', 2021)"
   ]
  },
  {
   "cell_type": "code",
   "execution_count": null,
   "metadata": {},
   "outputs": [],
   "source": [
    "unzip_sos_files('Contribution', 2021)"
   ]
  },
  {
   "cell_type": "code",
   "execution_count": null,
   "metadata": {},
   "outputs": [],
   "source": [
    "totals_df = sos_to_gbq('Contribution', contribution_schema_lst, 2021)"
   ]
  },
  {
   "cell_type": "code",
   "execution_count": null,
   "metadata": {},
   "outputs": [],
   "source": [
    "totals_df"
   ]
  },
  {
   "cell_type": "code",
   "execution_count": null,
   "metadata": {},
   "outputs": [],
   "source": [
    "get_sos_files('Expenditure', 2021)"
   ]
  },
  {
   "cell_type": "code",
   "execution_count": null,
   "metadata": {},
   "outputs": [],
   "source": [
    "unzip_sos_files('Expenditure', 2021)"
   ]
  },
  {
   "cell_type": "code",
   "execution_count": null,
   "metadata": {},
   "outputs": [],
   "source": [
    "totals_df = sos_to_gbq('Expenditure', expenditure_schema_lst, 2021)"
   ]
  },
  {
   "cell_type": "code",
   "execution_count": null,
   "metadata": {},
   "outputs": [],
   "source": [
    "totals_df"
   ]
  },
  {
   "cell_type": "code",
   "execution_count": null,
   "metadata": {},
   "outputs": [],
   "source": [
    "get_sos_files('Loan', 2021)"
   ]
  },
  {
   "cell_type": "code",
   "execution_count": null,
   "metadata": {},
   "outputs": [],
   "source": [
    "unzip_sos_files('Loan', 2021)"
   ]
  },
  {
   "cell_type": "code",
   "execution_count": null,
   "metadata": {},
   "outputs": [],
   "source": [
    "totals_df = sos_to_gbq('Loan', loan_schema_lst, 2021)"
   ]
  },
  {
   "cell_type": "code",
   "execution_count": null,
   "metadata": {},
   "outputs": [],
   "source": [
    "totals_df"
   ]
  },
  {
   "cell_type": "code",
   "execution_count": null,
   "metadata": {},
   "outputs": [],
   "source": [
    "loans_df = pd.read_csv(r'loan/2001_LoanData.csv', encoding='cp437', on_bad_lines='warn', low_memory=False)"
   ]
  },
  {
   "cell_type": "code",
   "execution_count": null,
   "metadata": {},
   "outputs": [],
   "source": [
    "loans_df.index[(loans_df['PaymentDate'].astype('str') >= '2100-01-01 00:00:00') & (loans_df['PaymentDate'].astype('str') != 'nan')].tolist()\n"
   ]
  },
  {
   "cell_type": "code",
   "execution_count": null,
   "metadata": {},
   "outputs": [],
   "source": [
    "df.index[(df[col] >= '2100-01-01 00:00:00') & (df.index[df[col] != 'nan'])].tolist()"
   ]
  },
  {
   "cell_type": "code",
   "execution_count": null,
   "metadata": {},
   "outputs": [],
   "source": [
    "loans_df"
   ]
  },
  {
   "cell_type": "code",
   "execution_count": null,
   "metadata": {},
   "outputs": [],
   "source": []
  }
 ],
 "metadata": {
  "kernelspec": {
   "display_name": "Python 3.9.13 ('.venv': venv)",
   "language": "python",
   "name": "python3"
  },
  "language_info": {
   "codemirror_mode": {
    "name": "ipython",
    "version": 3
   },
   "file_extension": ".py",
   "mimetype": "text/x-python",
   "name": "python",
   "nbconvert_exporter": "python",
   "pygments_lexer": "ipython3",
   "version": "3.9.13"
  },
  "orig_nbformat": 4,
  "vscode": {
   "interpreter": {
    "hash": "a27f2c98f1bdea49ca52348584065d46af0da11cd67d25dd25f988af3e47ca78"
   }
  }
 },
 "nbformat": 4,
 "nbformat_minor": 2
}
